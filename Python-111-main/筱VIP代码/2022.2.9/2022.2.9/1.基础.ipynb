{
 "cells": [
  {
   "cell_type": "code",
   "execution_count": 5,
   "metadata": {},
   "outputs": [
    {
     "name": "stdout",
     "output_type": "stream",
     "text": [
      "cai xiao dan\n",
      "13.4\n"
     ]
    }
   ],
   "source": [
    "o = 1 #变量\n",
    "bool = True #bool型\n",
    "name = \"cai xiao dan\"\n",
    "print(name)\n",
    "price = 13.4 #floot\n",
    "print(price)"
   ]
  },
  {
   "cell_type": "code",
   "execution_count": 6,
   "metadata": {},
   "outputs": [
    {
     "name": "stdout",
     "output_type": "stream",
     "text": [
      "Hello\n",
      "Today is good day\n"
     ]
    }
   ],
   "source": [
    "if True:\n",
    "    print(\"Hello\")\n",
    "if 2 > 1:\n",
    "    print(\"Today is good day\")"
   ]
  },
  {
   "cell_type": "code",
   "execution_count": 8,
   "metadata": {},
   "outputs": [
    {
     "name": "stdout",
     "output_type": "stream",
     "text": [
      "haha\n"
     ]
    }
   ],
   "source": [
    "if 1 > 2:\n",
    "    print(\"hello\")\n",
    "elif 1 == 2:\n",
    "    print(\"see you\")\n",
    "else:\n",
    "    print(\"haha\")"
   ]
  },
  {
   "cell_type": "code",
   "execution_count": 9,
   "metadata": {},
   "outputs": [
    {
     "name": "stdout",
     "output_type": "stream",
     "text": [
      "1\n",
      "2\n",
      "3\n",
      "4\n",
      "5\n",
      "6\n",
      "7\n",
      "8\n",
      "9\n",
      "10\n"
     ]
    }
   ],
   "source": [
    "n = 1\n",
    "while n <= 10:\n",
    "    print(n)\n",
    "    n += 1"
   ]
  },
  {
   "cell_type": "code",
   "execution_count": 12,
   "metadata": {},
   "outputs": [
    {
     "name": "stdout",
     "output_type": "stream",
     "text": [
      "anything is good\n"
     ]
    }
   ],
   "source": [
    "loop = True\n",
    "while loop :\n",
    "    print(\"anything is good\")\n",
    "    loop = False #不加这句，该循环会一直执行"
   ]
  },
  {
   "cell_type": "code",
   "execution_count": 14,
   "metadata": {},
   "outputs": [
    {
     "name": "stdout",
     "output_type": "stream",
     "text": [
      "1\n",
      "2\n",
      "3\n",
      "4\n",
      "5\n",
      "6\n",
      "7\n",
      "8\n",
      "9\n"
     ]
    }
   ],
   "source": [
    "for i in range(1,10):\n",
    "    print(i)"
   ]
  },
  {
   "cell_type": "code",
   "execution_count": 17,
   "metadata": {},
   "outputs": [
    {
     "name": "stdout",
     "output_type": "stream",
     "text": [
      "4\n",
      "1\n"
     ]
    }
   ],
   "source": [
    "#列表\n",
    "m = [1,2,3,4,5,6,7,8]\n",
    "print(m[3])\n",
    "print(m[0])"
   ]
  },
  {
   "cell_type": "code",
   "execution_count": 18,
   "metadata": {},
   "outputs": [
    {
     "name": "stdout",
     "output_type": "stream",
     "text": [
      "hi\n"
     ]
    }
   ],
   "source": [
    "y = [\"hello\",\"bay\",\"hi\"]\n",
    "print(y[2])"
   ]
  },
  {
   "cell_type": "code",
   "execution_count": 19,
   "metadata": {},
   "outputs": [
    {
     "name": "stdout",
     "output_type": "stream",
     "text": [
      "['math']\n"
     ]
    }
   ],
   "source": [
    "#添加元素到表结构\n",
    "book = []\n",
    "book.append(\"math\")\n",
    "print(book)"
   ]
  },
  {
   "cell_type": "code",
   "execution_count": 24,
   "metadata": {},
   "outputs": [
    {
     "name": "stdout",
     "output_type": "stream",
     "text": [
      "{'name': 'xiaodan', 'sex': 'male', 'key': 'hello world', 'age': 25}\n",
      "xiaodan\n",
      "{'name': 'xiaodan', 'sex': 'female', 'key': 'hello world', 'age': 25}\n"
     ]
    }
   ],
   "source": [
    "#字典:键值对，一个键对应一个值\n",
    "dict = {\n",
    "    \"name\" : \"xiaodan\",\n",
    "    \"sex\" : \"male\",\n",
    "    \"key\" : \"hello world\"\n",
    "}\n",
    "dict[\"age\"] = 25\n",
    "print(dict)\n",
    "print(dict[\"name\"])#通过键搜索对应的值\n",
    "dict[\"sex\"] = \"female\"#直接修改\n",
    "print(dict)"
   ]
  },
  {
   "cell_type": "code",
   "execution_count": 25,
   "metadata": {},
   "outputs": [
    {
     "name": "stdout",
     "output_type": "stream",
     "text": [
      "name\n",
      "sex\n",
      "key\n",
      "age\n"
     ]
    }
   ],
   "source": [
    "#迭代：数据结构中的循环\n",
    "for i in dict:\n",
    "    print(i)#输出的是键"
   ]
  },
  {
   "cell_type": "code",
   "execution_count": 30,
   "metadata": {},
   "outputs": [],
   "source": [
    "#for i in dict[i]:\n",
    "    #print(i)"
   ]
  },
  {
   "cell_type": "code",
   "execution_count": 31,
   "metadata": {},
   "outputs": [
    {
     "name": "stdout",
     "output_type": "stream",
     "text": [
      "keys --> value\n"
     ]
    }
   ],
   "source": [
    "dict1 = {\"keys\":\"value\"}\n",
    "for key in dict1:\n",
    "    print(\"%s --> %s\" %(key,dict1[key]))"
   ]
  },
  {
   "cell_type": "code",
   "execution_count": 32,
   "metadata": {},
   "outputs": [
    {
     "name": "stdout",
     "output_type": "stream",
     "text": [
      "keys --> value\n"
     ]
    }
   ],
   "source": [
    "for key,value in dict1.items():#效果同上\n",
    "    print(\"%s --> %s\" %(key,value))"
   ]
  },
  {
   "cell_type": "code",
   "execution_count": 33,
   "metadata": {},
   "outputs": [
    {
     "name": "stdout",
     "output_type": "stream",
     "text": [
      "My name is xiaodan\n",
      "My sex is female\n",
      "My key is hello world\n",
      "My age is 25\n"
     ]
    }
   ],
   "source": [
    "for key,value in dict.items():#效果同上\n",
    "    print(\"My %s is %s\" %(key,value))"
   ]
  },
  {
   "cell_type": "code",
   "execution_count": 34,
   "metadata": {},
   "outputs": [],
   "source": [
    "#类与对象，对象是对客观事物抽象，类是对对象的抽象\n",
    "class Vehicle():\n",
    "    pass"
   ]
  },
  {
   "cell_type": "code",
   "execution_count": 35,
   "metadata": {},
   "outputs": [
    {
     "name": "stdout",
     "output_type": "stream",
     "text": [
      "<__main__.Vehicle object at 0x7fda317ff790>\n"
     ]
    }
   ],
   "source": [
    "car = Vehicle()#前者是后者的对象，也可以说是一个实例\n",
    "print(car)"
   ]
  },
  {
   "cell_type": "code",
   "execution_count": 37,
   "metadata": {},
   "outputs": [
    {
     "name": "stdout",
     "output_type": "stream",
     "text": [
      "4\n",
      "2\n"
     ]
    }
   ],
   "source": [
    "class Vehicle_01:\n",
    "    def __init__(self, number_of_wheels, type_of_tank, seating_capacity, maximum_velocity):\n",
    "        self.number_of_wheels = number_of_wheels\n",
    "        self.type_of_tank = type_of_tank\n",
    "        self.seating_capacity = seating_capacity\n",
    "        self.maximum_velocity = maximum_velocity\n",
    "\n",
    "    def number_of_wheels(self):\n",
    "        return self.number_of_wheels\n",
    "\n",
    "    def set_number_of_wheels(self, number):\n",
    "        self.number_of_wheels = number\n",
    "tesla_model_s = Vehicle_01(4, 'electric', 5, 250)\n",
    "print(tesla_model_s.number_of_wheels) \n",
    "tesla_model_s.number_of_wheels = 2 # setting number of wheels to 2\n",
    "print(tesla_model_s.number_of_wheels) "
   ]
  },
  {
   "cell_type": "code",
   "execution_count": 38,
   "metadata": {},
   "outputs": [
    {
     "name": "stdout",
     "output_type": "stream",
     "text": [
      "VRUUUUUUUM\n"
     ]
    }
   ],
   "source": [
    "class Vehicle_02:\n",
    "    def __init__(self, number_of_wheels, type_of_tank, seating_capacity, maximum_velocity):\n",
    "        self.number_of_wheels = number_of_wheels\n",
    "        self.type_of_tank = type_of_tank\n",
    "        self.seating_capacity = seating_capacity\n",
    "        self.maximum_velocity = maximum_velocity\n",
    "\n",
    "    def make_noise(self):\n",
    "        print('VRUUUUUUUM')\n",
    "tesla_model_s = Vehicle_02(4, 'electric', 5, 250)\n",
    "tesla_model_s.make_noise() "
   ]
  },
  {
   "cell_type": "code",
   "execution_count": 41,
   "metadata": {},
   "outputs": [
    {
     "name": "stdout",
     "output_type": "stream",
     "text": [
      "TK\n"
     ]
    }
   ],
   "source": [
    "#公开实例变量\n",
    "class Person:\n",
    "    def __init__(self,first_name):#一个属性\n",
    "        self.first_name = first_name\n",
    "#对象（实例）\n",
    "tk = Person('TK')\n",
    "print(tk.first_name)"
   ]
  },
  {
   "cell_type": "code",
   "execution_count": 44,
   "metadata": {},
   "outputs": [
    {
     "name": "stdout",
     "output_type": "stream",
     "text": [
      "haha\n"
     ]
    }
   ],
   "source": [
    "#利用类属性\n",
    "class Person:\n",
    "    first_name = \"haha\"\n",
    "tk = Person()\n",
    "print(tk.first_name)"
   ]
  },
  {
   "cell_type": "code",
   "execution_count": 45,
   "metadata": {},
   "outputs": [
    {
     "name": "stdout",
     "output_type": "stream",
     "text": [
      "Kaio\n"
     ]
    }
   ],
   "source": [
    "#对象管理变量的值\n",
    "class Person:\n",
    "    def __init__(self,first_name):\n",
    "        self.first_name = first_name\n",
    "tk = Person('TK')\n",
    "tk.first_name = 'Kaio'\n",
    "print(tk.first_name)"
   ]
  },
  {
   "cell_type": "code",
   "execution_count": 47,
   "metadata": {},
   "outputs": [
    {
     "name": "stdout",
     "output_type": "stream",
     "text": [
      "TK\n",
      "tk@mail.com\n"
     ]
    }
   ],
   "source": [
    "#私有实例变量 constructor方法 或在类的内部声明而定义一个私有实例变量\n",
    "class Person:\n",
    "    def __init__(self,first_name,email):\n",
    "        self.first_name = first_name\n",
    "        self.email = email\n",
    "tk = Person('TK','tk@mail.com')\n",
    "print(tk.first_name)\n",
    "print(tk.email)"
   ]
  },
  {
   "cell_type": "code",
   "execution_count": 67,
   "metadata": {},
   "outputs": [
    {
     "name": "stdout",
     "output_type": "stream",
     "text": [
      "tk@mail.com\n",
      "tk@mail.com\n",
      "new_tk@mail.com\n"
     ]
    }
   ],
   "source": [
    "class Person:\n",
    "    def __init__(self,first_name,email):\n",
    "        self.first_name = first_name\n",
    "        self.__email = email\n",
    "        \n",
    "    def update_email(self,new_email):\n",
    "        self.__email = new_email\n",
    "        \n",
    "    def email(self):\n",
    "        return self.__email\n",
    "    \n",
    "tk = Person('TK', 'tk@mail.com')\n",
    "print(tk.email()) # => tk@mail.com\n",
    "tk.__email = 'new_tk@mail.com'\n",
    "print(tk.email()) # => tk@mail.com\n",
    "tk.update_email('new_tk@mail.com')\n",
    "print(tk.email()) # => new_tk@mail.com"
   ]
  },
  {
   "cell_type": "code",
   "execution_count": 68,
   "metadata": {},
   "outputs": [
    {
     "name": "stdout",
     "output_type": "stream",
     "text": [
      "tk@email.com\n"
     ]
    }
   ],
   "source": [
    "#公开方法\n",
    "class Person:\n",
    "    def __init__(self,first_name,email):\n",
    "        self.first_name = first_name\n",
    "        self.email = email\n",
    "    \n",
    "    def email(self):\n",
    "        return self.email\n",
    "tk = Person('TK','tk@email.com')\n",
    "print(tk.email)"
   ]
  },
  {
   "cell_type": "code",
   "execution_count": 70,
   "metadata": {},
   "outputs": [
    {
     "name": "stdout",
     "output_type": "stream",
     "text": [
      "tk@email.com\n"
     ]
    }
   ],
   "source": [
    "#私有方法 show_age\n",
    "class Person:\n",
    "    def __init__(self,first_name,email):\n",
    "        self.first_name = first_name\n",
    "        self._email = email\n",
    "    def _show_email(self):\n",
    "        return self._email\n",
    "tk = Person('TK','tk@email.com')\n",
    "print(tk._show_email())"
   ]
  },
  {
   "cell_type": "code",
   "execution_count": 74,
   "metadata": {},
   "outputs": [
    {
     "name": "stdout",
     "output_type": "stream",
     "text": [
      "tk@email.com\n"
     ]
    }
   ],
   "source": [
    "class Person:\n",
    "    def __init__(self, first_name, email):\n",
    "        self.first_name = first_name\n",
    "        self._email = email\n",
    "\n",
    "    def show_email(self):#可以在类的外部调用\n",
    "        return self._get_email()\n",
    "\n",
    "    def _get_email(self):#只能在类的内部调用\n",
    "        return self._email\n",
    "\n",
    "tk = Person('TK','tk@email.com')\n",
    "print(tk.show_email()) "
   ]
  },
  {
   "cell_type": "code",
   "execution_count": 79,
   "metadata": {},
   "outputs": [
    {
     "name": "stdout",
     "output_type": "stream",
     "text": [
      "4\n",
      "5\n",
      "250\n"
     ]
    }
   ],
   "source": [
    "class Car:\n",
    "    def __init__(self, number_of_wheels, seating_capacity, maximum_velocity):#初始化\n",
    "        self.number_of_wheels = number_of_wheels\n",
    "        self.seating_capacity = seating_capacity\n",
    "        self.maximum_velocity = maximum_velocity\n",
    "my_car = Car(4, 5, 250)#dui xiang\n",
    "print(my_car.number_of_wheels)\n",
    "print(my_car.seating_capacity)\n",
    "print(my_car.maximum_velocity)"
   ]
  },
  {
   "cell_type": "code",
   "execution_count": 80,
   "metadata": {},
   "outputs": [
    {
     "name": "stdout",
     "output_type": "stream",
     "text": [
      "4\n",
      "5\n",
      "250\n"
     ]
    }
   ],
   "source": [
    "class ElectricCar(Car):\n",
    "    def __init__(self, number_of_wheels, seating_capacity, maximum_velocity):\n",
    "        Car.__init__(self, number_of_wheels, seating_capacity, maximum_velocity)\n",
    "my_electric_car = ElectricCar(4, 5, 250)\n",
    "print(my_electric_car.number_of_wheels) # => 4\n",
    "print(my_electric_car.seating_capacity) # => 5\n",
    "print(my_electric_car.maximum_velocity) # => 250"
   ]
  },
  {
   "cell_type": "code",
   "execution_count": null,
   "metadata": {},
   "outputs": [],
   "source": []
  }
 ],
 "metadata": {
  "kernelspec": {
   "display_name": "Python 3 (ipykernel)",
   "language": "python",
   "name": "python3"
  },
  "language_info": {
   "codemirror_mode": {
    "name": "ipython",
    "version": 3
   },
   "file_extension": ".py",
   "mimetype": "text/x-python",
   "name": "python",
   "nbconvert_exporter": "python",
   "pygments_lexer": "ipython3",
   "version": "3.9.7"
  }
 },
 "nbformat": 4,
 "nbformat_minor": 4
}
