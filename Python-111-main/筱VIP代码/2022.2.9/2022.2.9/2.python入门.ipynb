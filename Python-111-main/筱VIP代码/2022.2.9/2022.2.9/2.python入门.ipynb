{
 "cells": [
  {
   "cell_type": "code",
   "execution_count": 2,
   "metadata": {},
   "outputs": [
    {
     "name": "stdout",
     "output_type": "stream",
     "text": [
      "<class 'int'> <class 'float'>\n",
      "10 10.1\n"
     ]
    }
   ],
   "source": [
    "#数字可以分为：整型int  长整型 long 浮点型float\n",
    "x1 = 10\n",
    "x2 = 10.1\n",
    "print(type(x1),type(x2))\n",
    "print(x1,x2)"
   ]
  },
  {
   "cell_type": "code",
   "execution_count": 4,
   "metadata": {},
   "outputs": [
    {
     "name": "stdout",
     "output_type": "stream",
     "text": [
      "hello world <class 'str'>\n",
      "hehe\n",
      "what is this?\n",
      "it is dog.\n"
     ]
    }
   ],
   "source": [
    "#string 字符串，数字、字母、下划线构成\n",
    "x3 = \"hello world\"#单引号和双引号的作用是一样的\n",
    "print(x3,type(x3))\n",
    "print('hehe')\n",
    "print('''what is this?\n",
    "it is dog.''')#三引号表示多行字符串"
   ]
  },
  {
   "cell_type": "code",
   "execution_count": 6,
   "metadata": {},
   "outputs": [
    {
     "name": "stdout",
     "output_type": "stream",
     "text": [
      "True <class 'bool'>\n",
      "True\n",
      "True\n",
      "10\n"
     ]
    }
   ],
   "source": [
    "#bool类型 True的实际值是1 False的实际值是0\n",
    "x4 = True\n",
    "print(x4,type(x4))\n",
    "\n",
    "print(True == 1)\n",
    "print(False == 0)\n",
    "print(True * 10)"
   ]
  },
  {
   "cell_type": "code",
   "execution_count": 7,
   "metadata": {},
   "outputs": [
    {
     "name": "stdout",
     "output_type": "stream",
     "text": [
      "[1, 'a', 3, 1.3, [1, 2, 3]] <class 'list'>\n"
     ]
    }
   ],
   "source": [
    "# List列表，支持字符，数字，字符串以包含列表（即嵌套），用[]标识，有序对象\n",
    "x5 = [1,'a',3,1.3,[1,2,3]]\n",
    "print(x5,type(x5))"
   ]
  },
  {
   "cell_type": "code",
   "execution_count": 8,
   "metadata": {},
   "outputs": [
    {
     "name": "stdout",
     "output_type": "stream",
     "text": [
      "(1, 2, 3, 'hello') <class 'tuple'>\n"
     ]
    }
   ],
   "source": [
    "# Tuple元祖，用（）标识，不能二次赋值，可以理解成不可变的列表（只读列表）\n",
    "x6 = (1,2,3,'hello')\n",
    "print(x6,type(x6))"
   ]
  },
  {
   "cell_type": "code",
   "execution_count": 9,
   "metadata": {},
   "outputs": [
    {
     "name": "stdout",
     "output_type": "stream",
     "text": [
      "{'name': 'jack', 'age': 34, 'sex': 'female'} <class 'dict'>\n"
     ]
    }
   ],
   "source": [
    "#字典，键值对组成，无序对象\n",
    "x7 = {\"name\":\"jack\",\"age\":34,\"sex\":\"female\"}\n",
    "print(x7,type(x7))"
   ]
  },
  {
   "cell_type": "code",
   "execution_count": 11,
   "metadata": {},
   "outputs": [
    {
     "name": "stdout",
     "output_type": "stream",
     "text": [
      "10.8 <class 'float'>\n",
      "10 <class 'int'>\n",
      "10 <class 'int'>\n",
      "10.0 <class 'float'>\n",
      "10.0 <class 'float'>\n",
      "10.0 <class 'str'>\n",
      "10.0 <class 'float'>\n"
     ]
    }
   ],
   "source": [
    "#数据类型转换\n",
    "var1 = 10.8\n",
    "var2 = int(var1)#浮点型转成整型\n",
    "print(var1,type(var1))\n",
    "print(var2,type(var2))\n",
    "var1 = 10\n",
    "var2 = float(var1)#整型转成浮点型\n",
    "print(var1,type(var1))\n",
    "print(var2,type(var2))\n",
    "var1 = 10.0\n",
    "var2 = str(var1)#浮点型转换字符串型\n",
    "var3 = float(var2)#字符串转浮点型\n",
    "print(var1,type(var1))\n",
    "print(var2,type(var2))\n",
    "print(var3,type(var3))"
   ]
  },
  {
   "cell_type": "code",
   "execution_count": 12,
   "metadata": {},
   "outputs": [
    {
     "name": "stdout",
     "output_type": "stream",
     "text": [
      "hello 100 178.3\n"
     ]
    }
   ],
   "source": [
    "#变量 变量名+变量类型   变量名第一个字符必须是字母（大小写均可）或者下划线（“_”），不能数字开头\n",
    "#变量名不能和常用功能性名字重合，例如print   不要有空格\n",
    "\n",
    "name  = \"hello\"\n",
    "num = 100\n",
    "hight = 178.3\n",
    "print(name,num,hight)"
   ]
  },
  {
   "cell_type": "code",
   "execution_count": 13,
   "metadata": {},
   "outputs": [
    {
     "name": "stdout",
     "output_type": "stream",
     "text": [
      "3 3 3\n",
      "name\n"
     ]
    }
   ],
   "source": [
    "#多变量赋值\n",
    "a = c = n = 3\n",
    "g,i,l = 3,\"name\",20.8\n",
    "print(a,c,n)\n",
    "print(i)"
   ]
  },
  {
   "cell_type": "code",
   "execution_count": 14,
   "metadata": {},
   "outputs": [
    {
     "name": "stdout",
     "output_type": "stream",
     "text": [
      "10 6 20 5.0 1\n"
     ]
    }
   ],
   "source": [
    "#运算符：加减乘除 \n",
    "a,b,c = 2,8,10\n",
    "s = a + b\n",
    "d = b - a\n",
    "f = a * c\n",
    "g = c / a#chu\n",
    "j = c // b#quzheng\n",
    "print(s,d,f,g,j)\n"
   ]
  },
  {
   "cell_type": "code",
   "execution_count": 15,
   "metadata": {},
   "outputs": [
    {
     "name": "stdout",
     "output_type": "stream",
     "text": [
      "False\n",
      "True\n",
      "True\n",
      "False\n",
      "True\n",
      "False\n"
     ]
    }
   ],
   "source": [
    "# 比较运算符\n",
    "a, b = 21, 10\n",
    "print(a == b)  # 等于\n",
    "print(a != b)  # 不等于\n",
    "print(a > b)  # 大于\n",
    "print(a < b)  # 小于\n",
    "print(a >= 21)  # 大于等于\n",
    "print(a <= 2)  # 小于等于"
   ]
  },
  {
   "cell_type": "code",
   "execution_count": 19,
   "metadata": {},
   "outputs": [
    {
     "name": "stdout",
     "output_type": "stream",
     "text": [
      "10\n",
      "False\n",
      "True\n",
      "False\n",
      "True\n"
     ]
    }
   ],
   "source": [
    "print(a and b)\n",
    "print(True and False)  \n",
    "print(True or False)  \n",
    "print(not True) #and且   or或   not非\n",
    "print(True>0)#True 1,False 0"
   ]
  },
  {
   "cell_type": "code",
   "execution_count": 20,
   "metadata": {},
   "outputs": [
    {
     "name": "stdout",
     "output_type": "stream",
     "text": [
      "False True True True True\n"
     ]
    }
   ],
   "source": [
    "print(bool(0),bool(3.0),bool(-1),bool([1,2,3]),bool(0.7))\n",
    "#有以下情况bool()返回False：0, 0.0, None，'', [] , {}"
   ]
  },
  {
   "cell_type": "code",
   "execution_count": 21,
   "metadata": {},
   "outputs": [
    {
     "name": "stdout",
     "output_type": "stream",
     "text": [
      "True\n",
      "True\n"
     ]
    }
   ],
   "source": [
    "#成员运算符\n",
    "lst = [1,2,3,4,5,6]\n",
    "a,b = 1,10\n",
    "print(a in lst)  # a 在 lst 序列中 , 如果 x 在 y 序列中返回 True。\n",
    "print(b not in lst)  # b 不在 lst 序列中 , 如果 x 不在 y 序列中返回 True。"
   ]
  },
  {
   "cell_type": "code",
   "execution_count": 22,
   "metadata": {},
   "outputs": [
    {
     "name": "stdout",
     "output_type": "stream",
     "text": [
      "hello world!\n"
     ]
    }
   ],
   "source": [
    "print('hello world!')\n",
    "# print('hello world!')"
   ]
  },
  {
   "cell_type": "code",
   "execution_count": 23,
   "metadata": {},
   "outputs": [
    {
     "name": "stdout",
     "output_type": "stream",
     "text": [
      "1\n",
      "2\n",
      "3\n",
      "4\n"
     ]
    }
   ],
   "source": [
    "a = [1,2,3,4]\n",
    "for i in a:\n",
    "    print(i)"
   ]
  },
  {
   "cell_type": "code",
   "execution_count": 24,
   "metadata": {},
   "outputs": [
    {
     "name": "stdout",
     "output_type": "stream",
     "text": [
      "True\n",
      "True\n"
     ]
    }
   ],
   "source": [
    "#序列以及通用操作  判断值是否属于序列\n",
    "lst = [1,2,3,4,5,6]\n",
    "a,b = 1,10\n",
    "print(a in lst)  # a 在 lst 序列中 , 如果 x 在 y 序列中返回 True。\n",
    "print(b not in lst)  # b 不在 lst 序列中 , 如果 x 不在 y 序列中返回 True。"
   ]
  },
  {
   "cell_type": "code",
   "execution_count": 25,
   "metadata": {},
   "outputs": [
    {
     "name": "stdout",
     "output_type": "stream",
     "text": [
      "[1, 2, 3, 'a', 'b', 'c']\n",
      "[1, 2, 3, 1, 2, 3, 1, 2, 3] ['a', 'b', 'c', 'a', 'b', 'c']\n"
     ]
    }
   ],
   "source": [
    "# 序列链接与重复\n",
    "lst1 = [1,2,3]\n",
    "lst2 = ['a','b','c']\n",
    "print(lst1+lst2)  # \"+\"：序列的链接\n",
    "print(lst1*3,lst2*2)  # \"*\"：序列重复"
   ]
  },
  {
   "cell_type": "code",
   "execution_count": 27,
   "metadata": {},
   "outputs": [
    {
     "name": "stdout",
     "output_type": "stream",
     "text": [
      "3 4 1\n",
      "0\n"
     ]
    }
   ],
   "source": [
    "# 下标索引\n",
    "lst = [1,2,3,4,5,6,7,8,9,0]\n",
    "print(lst[2],lst[3],lst[0])\n",
    "print(lst[-1])"
   ]
  },
  {
   "cell_type": "code",
   "execution_count": 28,
   "metadata": {},
   "outputs": [
    {
     "name": "stdout",
     "output_type": "stream",
     "text": [
      "[3, 4, 5]\n",
      "[1, 2, 3, 4, 5]\n",
      "[5, 6, 7, 8, 9, 0]\n",
      "[6, 7, 8, 9]\n"
     ]
    }
   ],
   "source": [
    "# 切片\n",
    "lst = [1,2,3,4,5,6,7,8,9,0]\n",
    "print(lst[2:5])  # 切片可以理解成列表的值区间，且是一个左闭右开区间，这里lst[2:5]代表的区间是：索引2的值 - 索引4的值\n",
    "print(lst[:5])  # 左边无索引，代表从索引0开始\n",
    "print(lst[4:])  # 右边无索引，代表以最后一个值结束\n",
    "print(lst[5:-1]) #结束时倒数第二个值"
   ]
  },
  {
   "cell_type": "code",
   "execution_count": 31,
   "metadata": {},
   "outputs": [
    {
     "name": "stdout",
     "output_type": "stream",
     "text": [
      "[1, 3, 5]\n",
      "[1, 3, 5, 7, 9]\n",
      "[2, 4, 6, 8, 0]\n"
     ]
    }
   ],
   "source": [
    "# 步长\n",
    "lst = [1,2,3,4,5,6,7,8,9,0]\n",
    "print(lst[0:5:2])#下标是0-5，步长是2\n",
    "print(lst[::2])#默认全部长度，步长还是2\n",
    "print(lst[1::2])#从第二个数开始"
   ]
  },
  {
   "cell_type": "code",
   "execution_count": 32,
   "metadata": {},
   "outputs": [
    {
     "name": "stdout",
     "output_type": "stream",
     "text": [
      "10\n",
      "9 0 45\n",
      "2\n",
      "4\n"
     ]
    }
   ],
   "source": [
    "# 序列的基本内置全局函数\n",
    "lst = [1,2,3,4,5,6,7,8,9,0]\n",
    "print(len(lst))  # 列表元素个数\n",
    "print(max(lst),min(lst),sum(lst))  # 返回列表的最大值、最小值、求和，这三个函数都只针对数字的list\n",
    "print(lst.index(3))  #从列表中找出某个值第一个匹配项的索引位置\n",
    "lst = [1,1,2,3,3,4,4,4,4,5,6]\n",
    "print(lst.count(4))#计算值出现的次数"
   ]
  },
  {
   "cell_type": "code",
   "execution_count": 33,
   "metadata": {},
   "outputs": [
    {
     "name": "stdout",
     "output_type": "stream",
     "text": [
      "143 43 43\n",
      "[1, 2, 3, 1, 2, 3, 1, 2, 3]\n"
     ]
    }
   ],
   "source": [
    "lst1 = [1,2,3,'a','b','c',[1,2,3]]\n",
    "lst2 = [143,56,894,67,43]\n",
    "print(lst2[0],lst2[4],lst2[-1])#索引\n",
    "lst3 = [1,2,3]\n",
    "lst3 = lst3 * 3#列表重复\n",
    "print(lst3)"
   ]
  },
  {
   "cell_type": "code",
   "execution_count": 34,
   "metadata": {},
   "outputs": [
    {
     "name": "stdout",
     "output_type": "stream",
     "text": [
      "[10, 101, 102]\n"
     ]
    }
   ],
   "source": [
    "lst4 = [1,2,['a','b']]# 可嵌套\n",
    "lst5 = [100,101,102]\n",
    "lst5[0] = 10\n",
    "print(lst5)# 可原位改变相应的值"
   ]
  },
  {
   "cell_type": "code",
   "execution_count": 38,
   "metadata": {},
   "outputs": [
    {
     "name": "stdout",
     "output_type": "stream",
     "text": [
      "[0, 1, 2, 3, 4] <class 'range'>\n",
      "[0, 2, 4, 6, 8]\n",
      "[0, 1, 2, 3, 4]\n"
     ]
    }
   ],
   "source": [
    "# 列表与生成器\n",
    "print(list(range(5)),type(range(5))) \n",
    "print(list(range(0,10,2)))#代表指向了0,2,4,6,8这几个值，最后的2代表步长\n",
    "lst = list(range(5))\n",
    "print(lst)"
   ]
  },
  {
   "cell_type": "code",
   "execution_count": 39,
   "metadata": {},
   "outputs": [
    {
     "name": "stdout",
     "output_type": "stream",
     "text": [
      "[0, 1, 2, 3, 4, 5, 6, 7, 8, 9, 'hello']\n",
      "[0, 1, 2, 3, 4, 5, 6, 7, 8, 9, 'hello', ['a', 'b', 'c']]\n",
      "[0, 1, 2, 3, 4, 5, 6, 7, 8, 9, 'hello', ['a', 'b', 'c'], 'a', 'b', 'c']\n"
     ]
    }
   ],
   "source": [
    "# 可变列表list常用操作 - 添加元素\n",
    "lst = list(range(10))\n",
    "lst.append('hello')\n",
    "print(lst)\n",
    "# list.append() 添加元素\n",
    "lst.append(['a','b','c'])\n",
    "print(lst)\n",
    "lst.extend(['a','b','c'])\n",
    "print(lst)\n",
    "# 添加多个元素用.extend()方法：用新列表扩展原来的列表，注意和append()方法的区别"
   ]
  },
  {
   "cell_type": "code",
   "execution_count": 41,
   "metadata": {},
   "outputs": [
    {
     "name": "stdout",
     "output_type": "stream",
     "text": [
      "['Jack', 'Tom', 'Tracy', 'Alex', 'White']\n",
      "['Jack', 'Tom', 'Tracy']\n",
      "[]\n"
     ]
    }
   ],
   "source": [
    "# 可变列表list常用操作 - 删除元素\n",
    "lst = ['Jack','Jack','Tom','Tracy','Alex','White']\n",
    "lst.remove('Jack')#移除列表中某个值的第一个匹配项\n",
    "print(lst)\n",
    "\n",
    "del lst[3:5]\n",
    "print(lst)#删除list的相应索引值\n",
    "\n",
    "lst.clear()\n",
    "print(lst)# 移除所有值"
   ]
  },
  {
   "cell_type": "code",
   "execution_count": 43,
   "metadata": {},
   "outputs": [
    {
     "name": "stdout",
     "output_type": "stream",
     "text": [
      "[0, 1, 2, 3, 4, 5, 6, 7, 8, 9]\n",
      "[0, 1, 2, 'a', 3, 4, 5, 6, 7, 8, 9]\n",
      "[0, 1, 2, 'a', 3, [1, 2, 3], 4, 5, 6, 7, 8, 9]\n"
     ]
    }
   ],
   "source": [
    "# 可变列表list常用操作 - 插入元素\n",
    "lst = list(range(10))\n",
    "print(lst)\n",
    "\n",
    "lst.insert(3,'a')#位置，值\n",
    "print(lst）\n",
    "      \n",
    "lst.insert(5,[1,2,3])\n",
    "print(lst)"
   ]
  },
  {
   "cell_type": "code",
   "execution_count": 48,
   "metadata": {},
   "outputs": [
    {
     "name": "stdout",
     "output_type": "stream",
     "text": [
      "[0, 1, 'hello', 3, 4, 5, 6, 7, 8, 9]\n",
      "[0, 1, 'hello', 3, 4, 5, 6, 7, 8, 9]\n",
      "[0, 1, 2, 3, 4, 5, 6, 7, 8, 9]\n",
      "[0, 1, 'hello', 3, 4, 5, 6, 7, 8, 9]\n"
     ]
    }
   ],
   "source": [
    "# 可变列表list常用操作 - 复制\n",
    "lst = list(range(10))\n",
    "lst1 = lst\n",
    "lst1[2] = 'hello'\n",
    "print(lst)\n",
    "print(lst1)\n",
    "\n",
    "lst = list(range(10))\n",
    "lst2 = lst.copy()#复制\n",
    "lst2[2] = 'hello'\n",
    "print(lst)\n",
    "print(lst2)"
   ]
  },
  {
   "cell_type": "code",
   "execution_count": 49,
   "metadata": {},
   "outputs": [
    {
     "name": "stdout",
     "output_type": "stream",
     "text": [
      "[3, 12, 32, 45, 45, 66, 98] ['asd', 'cxv', 'ghv']\n",
      "[98, 66, 45, 45, 32, 12, 3] ['ghv', 'cxv', 'asd']\n",
      "[98, 66, 45, 45, 32, 12, 3] [3, 12, 32, 45, 45, 66, 98, 'hello']\n"
     ]
    }
   ],
   "source": [
    "# 可变列表list常用操作 - 排序\n",
    "lst1 = [12,45,32,98,45,66,3]\n",
    "lst2 = [\"asd\", \"cxv\", \"ghv\"]\n",
    "lst1.sort()\n",
    "lst2.sort()\n",
    "print(lst1,lst2) # 默认升序排序/字母顺序\n",
    "\n",
    "lst1.sort(reverse=True)\n",
    "lst2.sort(reverse=True)\n",
    "print(lst1,lst2) # 参数reverse：反向排序，针对数字\n",
    "\n",
    "lst3 = sorted(lst1)\n",
    "lst3.append('hello')\n",
    "print(lst1,lst3)# 函数sorted():排序并复制"
   ]
  },
  {
   "cell_type": "code",
   "execution_count": 50,
   "metadata": {},
   "outputs": [
    {
     "name": "stdout",
     "output_type": "stream",
     "text": [
      "1997 ('a', 'b')\n"
     ]
    }
   ],
   "source": [
    "tup1 = ('physics', 'chemistry', 1997, 2000)\n",
    "tup2 = (1, 2, 3, 4, 5 )\n",
    "tup3 = \"a\", \"b\", \"c\", \"d\" \n",
    "tup4 = (50,)\n",
    "print(tup1[2],tup3[:2]) "
   ]
  },
  {
   "cell_type": "code",
   "execution_count": 51,
   "metadata": {},
   "outputs": [
    {
     "name": "stdout",
     "output_type": "stream",
     "text": [
      "4\n",
      "('physics', 'chemistry', 1997, 2000, 1, 2, 3, 4, 5)\n",
      "(50, 50, 50)\n",
      "5 1\n"
     ]
    }
   ],
   "source": [
    "print(len(tup1))\n",
    "print(tup1 + tup2)\n",
    "print(tup4 * 3)\n",
    "print(max(tup2),min(tup2))"
   ]
  },
  {
   "cell_type": "code",
   "execution_count": 52,
   "metadata": {},
   "outputs": [
    {
     "name": "stdout",
     "output_type": "stream",
     "text": [
      "(0, 1, 2, 3, 4, 5, 6, 7, 8, 9)\n"
     ]
    }
   ],
   "source": [
    "lst = list(range(10))\n",
    "tup5 = tuple(lst)\n",
    "print(tup5)"
   ]
  },
  {
   "cell_type": "code",
   "execution_count": 53,
   "metadata": {},
   "outputs": [],
   "source": [
    "# 字符串引号 ，单双引号无区别，在文本中相互交替使用\n",
    "str1 = \"abc\"\n",
    "str2 = 'abc'\n",
    "str3 = 'my name is \"fatbird\"'\n",
    "#需要多行字符串用三引号‘’‘’‘’，“”“”“”\n",
    "str4 = '''hello! how are you?\n",
    "          I`m fine, thank you.'''"
   ]
  },
  {
   "cell_type": "code",
   "execution_count": 54,
   "metadata": {},
   "outputs": [
    {
     "name": "stdout",
     "output_type": "stream",
     "text": [
      "' \"\n",
      "hello\n",
      "how do you do?\n",
      "\\\n"
     ]
    }
   ],
   "source": [
    "# 转义字符：\\\n",
    "print('\\'', '\\\"')\n",
    "print('hello\\nhow do you do?') \n",
    "print('\\\\') "
   ]
  },
  {
   "cell_type": "code",
   "execution_count": 56,
   "metadata": {},
   "outputs": [
    {
     "name": "stdout",
     "output_type": "stream",
     "text": [
      "True\n",
      "我很帅没错\n",
      "hand hand hand hand \n"
     ]
    }
   ],
   "source": [
    "# 序列通用功能\n",
    "print('a' in 'abc') #判断是否存在\n",
    "print('我很帅' + \"没错\")#文本连接\n",
    "print('hand '*4)#文本复制"
   ]
  },
  {
   "cell_type": "code",
   "execution_count": 58,
   "metadata": {},
   "outputs": [
    {
     "name": "stdout",
     "output_type": "stream",
     "text": [
      "c g\n",
      "ab\n",
      "aceg\n"
     ]
    }
   ],
   "source": [
    "st = 'abcdefg'\n",
    "print(st[2],st[-1])#索引\n",
    "print(st[:2])#切片\n",
    "print(st[::2])#步长"
   ]
  },
  {
   "cell_type": "code",
   "execution_count": 60,
   "metadata": {},
   "outputs": [
    {
     "name": "stdout",
     "output_type": "stream",
     "text": [
      "6\n",
      "st长度为： 7\n"
     ]
    }
   ],
   "source": [
    "print(st.index('g'))  \n",
    "print('st长度为：',len(st))  # 计算字符串长度"
   ]
  },
  {
   "cell_type": "code",
   "execution_count": 61,
   "metadata": {},
   "outputs": [
    {
     "name": "stdout",
     "output_type": "stream",
     "text": [
      "i`m handsome!\n",
      "i`m ugly!\n",
      "heheha\n",
      "['poi01', '116.446238', '39.940166']\n",
      "poi01-116.446238-39.940166\n"
     ]
    }
   ],
   "source": [
    "# 字符串常用功能\n",
    "st = \"i`m handsome!\"\n",
    "st2 = st.replace('handsome','ugly')\n",
    "print(st)\n",
    "print(st2)\n",
    "st = 'hahaha'\n",
    "st2 = st.replace('ha','he',2)\n",
    "print(st2)\n",
    "st = \"poi01,116.446238,39.940166\"\n",
    "lst = st.split(',')\n",
    "print(lst)\n",
    "lst = ['poi01', '116.446238', '39.940166']\n",
    "m = '-'\n",
    "st = m.join(lst)\n",
    "print(st)"
   ]
  },
  {
   "cell_type": "code",
   "execution_count": 62,
   "metadata": {},
   "outputs": [
    {
     "name": "stdout",
     "output_type": "stream",
     "text": [
      "True False\n",
      "ABDEAJC KLM\n",
      "abdeajc klm\n",
      "AbdeaJC Klm\n",
      "Abdeajc klm\n",
      "True\n",
      "True\n",
      "avd\n"
     ]
    }
   ],
   "source": [
    "st = 'abcdefg'\n",
    "print(st.startswith('a'), st.endswith('f'))\n",
    "st = 'aBDEAjc kLM'\n",
    "print(st.upper())  # 全部大写\n",
    "print(st.lower())  # 全部小写\n",
    "print(st.swapcase())  # 大小写互换\n",
    "print(st.capitalize())  # 首字母大写\n",
    "\n",
    "st = '1234567'\n",
    "print(st.isnumeric())  # 如果 string 只包含数字则返回 True,否则返回 False.\n",
    "\n",
    "st = 'DNVAK'\n",
    "print(st.isalpha())  # 如果 string 至少有一个字符并且所有字符都是字母则返回 True,否则返回 False\n",
    "\n",
    "st = 'avd   '\n",
    "print(st.rstrip())  # 删除字符末尾的空格"
   ]
  },
  {
   "cell_type": "code",
   "execution_count": 63,
   "metadata": {},
   "outputs": [
    {
     "name": "stdout",
     "output_type": "stream",
     "text": [
      "FATBIRD is 好人\n",
      "this is 4\n",
      "this is hehe\n",
      "this is 4.200000\n"
     ]
    }
   ],
   "source": [
    "# 格式化字符：在字符串中插入变量\n",
    "name = \"FATBIRD\"\n",
    "truth = \"%s is 好人\" %name# %s 表示我们这里要插入一个变量（字符串），%name代表这里我们插入name\n",
    "print(truth)\n",
    "#s/i/f分别代表插入字符串的源数据类型：字符型/整型/浮点型\n",
    "x = 4   \n",
    "y = \"hehe\"  \n",
    "z = 4.2\n",
    "print(\"this is %i\" %x)\n",
    "print(\"this is %s\" %y)\n",
    "print(\"this is %f\" %z)"
   ]
  },
  {
   "cell_type": "code",
   "execution_count": 64,
   "metadata": {},
   "outputs": [
    {
     "name": "stdout",
     "output_type": "stream",
     "text": [
      "pi is 3.141593\n",
      "pi is 3.14\n",
      "pi is 10\n",
      "pi is 11\n"
     ]
    }
   ],
   "source": [
    "# 格式化字符：数字格式化的那些坑\n",
    "m = 3.1415926 \n",
    "print(\"pi is %f\"  %m)\n",
    "print(\"pi is %.2f\" %m)\n",
    "#输出2位小数:%.2f\n",
    "m = 10.6\n",
    "print(\"pi is %i\"  %m)\n",
    "print(\"pi is %.0f\" %m)\n",
    "#%i 不四舍五入，直接切掉小数部分"
   ]
  },
  {
   "cell_type": "code",
   "execution_count": 73,
   "metadata": {},
   "outputs": [
    {
     "name": "stdout",
     "output_type": "stream",
     "text": [
      "have fun +100\n",
      "have fun -0.01\n"
     ]
    }
   ],
   "source": [
    "m = 100 \n",
    "print(\"have fun %+i\"  %m)\n",
    "print(\"have fun %.2f\"  % -0.01)"
   ]
  },
  {
   "cell_type": "code",
   "execution_count": 79,
   "metadata": {},
   "outputs": [
    {
     "name": "stdout",
     "output_type": "stream",
     "text": [
      "have fun  100\n",
      "have fun +100\n",
      "have fun -0.01\n"
     ]
    }
   ],
   "source": [
    "m = 100 \n",
    "print(\"have fun % i\"  %m)\n",
    "print(\"have fun % +i\"  %m)\n",
    "print(\"have fun % .2f\"  %-0.01)"
   ]
  },
  {
   "cell_type": "code",
   "execution_count": 81,
   "metadata": {},
   "outputs": [
    {
     "name": "stdout",
     "output_type": "stream",
     "text": [
      "have fun 1.23e+02\n",
      "have fun 1.2312E+02\n"
     ]
    }
   ],
   "source": [
    "m = 123.123123123 \n",
    "print(\"have fun %.2e\"  %m)\n",
    "print(\"have fun %.4E\"  %m)#%e  %E 科学技术法"
   ]
  },
  {
   "cell_type": "code",
   "execution_count": 82,
   "metadata": {},
   "outputs": [
    {
     "name": "stdout",
     "output_type": "stream",
     "text": [
      "have fun 123.123\n",
      "have fun 1.2\n"
     ]
    }
   ],
   "source": [
    "m1 = 123.123123123\n",
    "m2 = 1.2\n",
    "print(\"have fun %g\"  %m1)\n",
    "print(\"have fun %g\"  %m2)\n",
    "# 小数位数少的时候自动识别用浮点数，数据复杂的时候自动识别用科学计数法"
   ]
  },
  {
   "cell_type": "code",
   "execution_count": 86,
   "metadata": {},
   "outputs": [
    {
     "name": "stdout",
     "output_type": "stream",
     "text": [
      "User ID: root\n",
      "a 呵呵 b\n"
     ]
    }
   ],
   "source": [
    "#format格式化\n",
    "print(\"User ID: {0}\".format(\"root\"))\n",
    "print(\"{} 呵呵 {}\".format(\"a\",\"b\"))#{}是占位符，里面有无内容均可"
   ]
  },
  {
   "cell_type": "code",
   "execution_count": 87,
   "metadata": {},
   "outputs": [
    {
     "name": "stdout",
     "output_type": "stream",
     "text": [
      "abc \n",
      " abca \n",
      "\n",
      "我的工作是设计\n"
     ]
    }
   ],
   "source": [
    "print(\"{}{}{}\".format('a','b','c'),'\\n',\n",
    "     \"{0}{1}{2}{0}\".format('a','b','c'),'\\n')\n",
    "#print(\"{}{}{}{}\".format('a','b','c'))\n",
    "# {}和{0}的区别:都是占位符，后者有了明确指定\n",
    "print(\"我的工作是{work}\".format(work = '设计'))\n",
    "# 也可以用变量来指示"
   ]
  },
  {
   "cell_type": "code",
   "execution_count": 88,
   "metadata": {},
   "outputs": [
    {
     "name": "stdout",
     "output_type": "stream",
     "text": [
      "abcdef abc{}\n"
     ]
    }
   ],
   "source": [
    "x=\"abc{}\"\n",
    "a = x.format(\"def\")\n",
    "print(a,x)"
   ]
  },
  {
   "cell_type": "code",
   "execution_count": 89,
   "metadata": {},
   "outputs": [
    {
     "name": "stdout",
     "output_type": "stream",
     "text": [
      "4.123000 \n",
      " 4.12 \n",
      " 4.123000e+00 \n",
      " 100 \n",
      " 412.300000% \n",
      " 10\n"
     ]
    }
   ],
   "source": [
    "print(\"{:f}\".format(4.123),'\\n',\n",
    " \"{:.2f}\".format(4.123),'\\n',\n",
    " \"{:e}\".format(4.123),'\\n',\n",
    " \"{:.0f}\".format(99.9),'\\n',\n",
    " \"{:%}\".format(4.123),'\\n',\n",
    " \"{:d}\".format(10))"
   ]
  },
  {
   "cell_type": "code",
   "execution_count": 91,
   "metadata": {},
   "outputs": [
    {
     "name": "stdout",
     "output_type": "stream",
     "text": [
      "{'jack': 23, 'anna': 12, 'lisa': 34}\n"
     ]
    }
   ],
   "source": [
    "name = ['jack','anna','lisa']\n",
    "age = [23,12,34]\n",
    "dict  ={'jack':23,'anna':12,'lisa':34}\n",
    "print(dict)"
   ]
  },
  {
   "cell_type": "code",
   "execution_count": 92,
   "metadata": {},
   "outputs": [
    {
     "name": "stdout",
     "output_type": "stream",
     "text": [
      "[{'name': 'Tom', 'age': 18}, {'name': 'Jack', 'age': 19}, {'name': 'Alex', 'age': 17}]\n"
     ]
    }
   ],
   "source": [
    "dic = [{'name':'Tom', 'age':18},{'name':'Jack', 'age':19},{'name':'Alex', \"age\":17}]\n",
    "print(dic)"
   ]
  },
  {
   "cell_type": "markdown",
   "metadata": {},
   "source": [
    "# 字典的特点\n",
    "# 键值对，一定共同出现，不能只有一个\n",
    "# 不允许同一个键出现两次：创建时如果同一个键被赋值两次，后一个值会被记住\n",
    "# key必须是字符串，value则可以是任意对象：数值，字符串，序列，字典\n",
    "# 字典是一个无序集合,序列由于没有key来做对应，所以以顺序来对应值\n",
    "# 序列有顺序，字典没有"
   ]
  },
  {
   "cell_type": "code",
   "execution_count": 100,
   "metadata": {},
   "outputs": [
    {
     "name": "stdout",
     "output_type": "stream",
     "text": [
      "{'anna': 12, 'lisa': 34}\n"
     ]
    }
   ],
   "source": [
    "#del dict['jack']  # 任意删除元素\n",
    "print(dict)"
   ]
  },
  {
   "cell_type": "code",
   "execution_count": 101,
   "metadata": {},
   "outputs": [
    {
     "name": "stdout",
     "output_type": "stream",
     "text": [
      "{}\n",
      "<class 'dict'>\n"
     ]
    }
   ],
   "source": [
    "dict.clear()  # 清空词典所有条目\n",
    "print(dict)\n",
    "del dict  # 删除词典\n",
    "print(dict) "
   ]
  },
  {
   "cell_type": "code",
   "execution_count": 102,
   "metadata": {},
   "outputs": [
    {
     "name": "stdout",
     "output_type": "stream",
     "text": [
      "{'m': 10, 'n': 'aa', 'h': [1, 2, 3]}\n"
     ]
    }
   ],
   "source": [
    "dic = dict(m = 10 ,n = 'aa', h = [1,2,3])\n",
    "print(dic)"
   ]
  },
  {
   "cell_type": "code",
   "execution_count": 103,
   "metadata": {},
   "outputs": [
    {
     "name": "stdout",
     "output_type": "stream",
     "text": [
      "{'a': 'fff', 'b': 'ggg'} {'c': 1, 'd': 2} {'e': [1, 2], 'f': [3, 4]}\n"
     ]
    }
   ],
   "source": [
    "# dict()由序列生成一个字典，嵌套序列，可以是list或者tuple\n",
    "lst1=[(\"a\",\"fff\"),(\"b\",\"ggg\")]\n",
    "lst2=[[\"c\",1],[\"d\",2]]\n",
    "lst3=((\"e\",[1,2]),(\"f\",[3,4]))\n",
    "dic1 = dict(lst1)\n",
    "dic2 = dict(lst2)\n",
    "dic3 = dict(lst3)\n",
    "print(dic1,dic2,dic3)"
   ]
  },
  {
   "cell_type": "code",
   "execution_count": 104,
   "metadata": {},
   "outputs": [
    {
     "name": "stdout",
     "output_type": "stream",
     "text": [
      "{'a': None, 'b': None, 'c': None} {'a': 'hello', 'b': 'hello', 'c': 'hello'}\n"
     ]
    }
   ],
   "source": [
    "# 只有key，直接生成一个字典\n",
    "keys = [\"a\", \"b\", \"c\"]\n",
    "dic1 = dict.fromkeys(keys)\n",
    "dic2 = dict.fromkeys(keys, 'hello')\n",
    "print(dic1,dic2)"
   ]
  },
  {
   "cell_type": "code",
   "execution_count": 105,
   "metadata": {},
   "outputs": [
    {
     "name": "stdout",
     "output_type": "stream",
     "text": [
      "{'a': 1, 'b': 2, 'c': 3, 'd': 4} {'c': 3, 'd': 4}\n"
     ]
    }
   ],
   "source": [
    "dic1 = {\"a\":1, \"b\":2}\n",
    "dic2 = {\"c\":3, \"d\":4}\n",
    "dic1.update(dic2)\n",
    "print(dic1,dic2)"
   ]
  },
  {
   "cell_type": "code",
   "execution_count": 106,
   "metadata": {},
   "outputs": [
    {
     "name": "stdout",
     "output_type": "stream",
     "text": [
      "{'m': 1, 'n': 2, 'p': 3, 'q': 4} {'m': 1, 'n': 2, 'p': 3, 'q': 4}\n"
     ]
    }
   ],
   "source": [
    "a = {'m':1 , 'n':2 , 'p':3}\n",
    "b = a\n",
    "a.update({'q':4})\n",
    "print(a,b)"
   ]
  },
  {
   "cell_type": "code",
   "execution_count": 107,
   "metadata": {},
   "outputs": [
    {
     "name": "stdout",
     "output_type": "stream",
     "text": [
      "{'m': 1, 'n': 2, 'p': 3, 'q': 4} {'m': 1, 'n': 2, 'p': 3}\n"
     ]
    }
   ],
   "source": [
    "a = {'m':1 , 'n':2 , 'p':3}# 通过.copy()方法，复制一个新的字典\n",
    "b = a.copy()\n",
    "a.update({'q':4})\n",
    "print(a,b)"
   ]
  },
  {
   "cell_type": "code",
   "execution_count": 109,
   "metadata": {},
   "outputs": [
    {
     "name": "stdout",
     "output_type": "stream",
     "text": [
      "4\n",
      "True\n",
      "False\n"
     ]
    }
   ],
   "source": [
    "print(len(a))\n",
    "print('m' in a)\n",
    "print(1 in a)"
   ]
  },
  {
   "cell_type": "code",
   "execution_count": 111,
   "metadata": {},
   "outputs": [
    {
     "name": "stdout",
     "output_type": "stream",
     "text": [
      "1\n"
     ]
    }
   ],
   "source": [
    "#元素访问\n",
    "dic = {\"a\":1,\"b\":2,\"c\":3}\n",
    "print(dic['a'])\n",
    "#print(dic[1])  # 不能用序列的索引方式,字典没有顺序"
   ]
  },
  {
   "cell_type": "code",
   "execution_count": 113,
   "metadata": {},
   "outputs": [
    {
     "name": "stdout",
     "output_type": "stream",
     "text": [
      "two\n"
     ]
    }
   ],
   "source": [
    "poi = {'name':'shop','city':'shanxi','information':{'student':'two','home':'two'}}\n",
    "print(poi['information']['student'])# 对于嵌套字典，输出嵌套内容，通过重复指向来输出"
   ]
  },
  {
   "cell_type": "code",
   "execution_count": 114,
   "metadata": {},
   "outputs": [
    {
     "name": "stdout",
     "output_type": "stream",
     "text": [
      "shop\n",
      "nothing\n",
      "None\n"
     ]
    }
   ],
   "source": [
    "print(poi.get('name'))\n",
    "print(poi.get('type',print('nothing')))\n",
    "# .get(key)方法：直接查看key的value，如果没有相应key则返回None，添加print参数可以多返回一个值"
   ]
  },
  {
   "cell_type": "code",
   "execution_count": 115,
   "metadata": {},
   "outputs": [
    {
     "name": "stdout",
     "output_type": "stream",
     "text": [
      "dict_keys(['name', 'city', 'information']) <class 'dict_keys'>\n",
      "['name', 'city', 'information']\n"
     ]
    }
   ],
   "source": [
    "print(poi.keys(),type(poi.keys()))\n",
    "print(list(poi.keys()))"
   ]
  },
  {
   "cell_type": "code",
   "execution_count": 116,
   "metadata": {},
   "outputs": [
    {
     "name": "stdout",
     "output_type": "stream",
     "text": [
      "dict_values(['shop', 'shanxi', {'student': 'two', 'home': 'two'}]) <class 'dict_values'>\n",
      "['shop', 'shanxi', {'student': 'two', 'home': 'two'}]\n"
     ]
    }
   ],
   "source": [
    "print(poi.values(),type(poi.values()))\n",
    "print(list(poi.values()))"
   ]
  },
  {
   "cell_type": "code",
   "execution_count": 117,
   "metadata": {},
   "outputs": [
    {
     "name": "stdout",
     "output_type": "stream",
     "text": [
      "dict_items([('name', 'shop'), ('city', 'shanxi'), ('information', {'student': 'two', 'home': 'two'})]) <class 'dict_items'>\n",
      "[('name', 'shop'), ('city', 'shanxi'), ('information', {'student': 'two', 'home': 'two'})]\n"
     ]
    }
   ],
   "source": [
    "print(poi.items(),type(poi.items()))\n",
    "print(list(poi.items()))"
   ]
  },
  {
   "cell_type": "code",
   "execution_count": 118,
   "metadata": {},
   "outputs": [
    {
     "name": "stdout",
     "output_type": "stream",
     "text": [
      "name\n",
      "city\n",
      "information\n",
      "shop\n",
      "shanxi\n",
      "{'student': 'two', 'home': 'two'}\n",
      "key为 name, value为 shop\n",
      "key为 city, value为 shanxi\n",
      "key为 information, value为 {'student': 'two', 'home': 'two'}\n"
     ]
    }
   ],
   "source": [
    "# 字典的元素遍历\n",
    "poi = {'name':'shop','city':'shanxi','information':{'student':'two','home':'two'}}\n",
    "for key in poi.keys():\n",
    "    print(key)\n",
    "\n",
    "for value in poi.values():\n",
    "    print(value)\n",
    "\n",
    "for (k,v) in poi.items():\n",
    "    print('key为 %s, value为 %s' %(k,v))"
   ]
  },
  {
   "cell_type": "code",
   "execution_count": 119,
   "metadata": {},
   "outputs": [
    {
     "name": "stdout",
     "output_type": "stream",
     "text": [
      "还是一个未成年的孩子\n"
     ]
    }
   ],
   "source": [
    "age = 12\n",
    "if age < 18:\n",
    "    print('还是一个未成年的孩子')"
   ]
  },
  {
   "cell_type": "code",
   "execution_count": 120,
   "metadata": {},
   "outputs": [
    {
     "name": "stdout",
     "output_type": "stream",
     "text": [
      "请输入成绩：89.7\n",
      "成绩是：89.7\n",
      "<class 'str'>\n"
     ]
    }
   ],
   "source": [
    "# 输入函数 input()\n",
    "score = input('请输入成绩：')\n",
    "print('成绩是：'+ score)\n",
    "print(type(score))"
   ]
  },
  {
   "cell_type": "code",
   "execution_count": 121,
   "metadata": {},
   "outputs": [
    {
     "name": "stdout",
     "output_type": "stream",
     "text": [
      "luren\n"
     ]
    }
   ],
   "source": [
    "flag = False\n",
    "name = 'luren'\n",
    "if name == 'python':\n",
    "    flag = True\n",
    "    print('welcome boss')\n",
    "else:\n",
    "    print(name)"
   ]
  },
  {
   "cell_type": "code",
   "execution_count": 122,
   "metadata": {},
   "outputs": [
    {
     "name": "stdout",
     "output_type": "stream",
     "text": [
      "user\n"
     ]
    }
   ],
   "source": [
    "#多种条件判断\n",
    "num = 2    \n",
    "if num == 3:            # 判断num的值\n",
    "    print('boss')       \n",
    "elif num == 2:\n",
    "    print('user')\n",
    "elif num == 1:\n",
    "    print('worker')\n",
    "elif num < 0:           # 值小于零时输出\n",
    "    print('error')\n",
    "else:\n",
    "    print('roadman')  # 条件均不成立时输出"
   ]
  },
  {
   "cell_type": "code",
   "execution_count": 123,
   "metadata": {},
   "outputs": [
    {
     "name": "stdout",
     "output_type": "stream",
     "text": [
      "hello\n"
     ]
    }
   ],
   "source": [
    "# 单语句多条件判断：or and\n",
    "num = 5\n",
    "if num >= 0 and num <= 10:    \n",
    "    print( 'hello')"
   ]
  },
  {
   "cell_type": "code",
   "execution_count": 124,
   "metadata": {},
   "outputs": [
    {
     "name": "stdout",
     "output_type": "stream",
     "text": [
      "undefine\n"
     ]
    }
   ],
   "source": [
    "num = 10\n",
    "if num < 0 or num > 10:    \n",
    "    print( 'hello')\n",
    "else:\n",
    "    print( 'undefine')"
   ]
  },
  {
   "cell_type": "code",
   "execution_count": 125,
   "metadata": {},
   "outputs": [
    {
     "name": "stdout",
     "output_type": "stream",
     "text": [
      "undefine\n"
     ]
    }
   ],
   "source": [
    "num = 8\n",
    "if (num >= 0 and num <= 5) or (num >= 10 and num <= 15):    \n",
    "    print( 'hello')\n",
    "else:\n",
    "    print( 'undefine')"
   ]
  },
  {
   "cell_type": "code",
   "execution_count": 126,
   "metadata": {},
   "outputs": [
    {
     "name": "stdout",
     "output_type": "stream",
     "text": [
      "hello world!\n",
      "hello world!\n",
      "hello world!\n",
      "hello world!\n",
      "hello world!\n"
     ]
    }
   ],
   "source": [
    "for i in range(5):\n",
    "    print('hello world!')"
   ]
  },
  {
   "cell_type": "code",
   "execution_count": 127,
   "metadata": {},
   "outputs": [
    {
     "name": "stdout",
     "output_type": "stream",
     "text": [
      "0\n",
      "2\n",
      "4\n",
      "6\n",
      "8\n",
      "Tom年龄为：18岁\n",
      "Jack年龄为：19岁\n",
      "Alex年龄为：17岁\n",
      "Mary年龄为：20岁\n"
     ]
    }
   ],
   "source": [
    "# 通过for遍历序列、映射\n",
    "\n",
    "lst = list(range(10))\n",
    "for i in lst[::2]:\n",
    "    print(i)\n",
    "\n",
    "# 遍历list\n",
    "\n",
    "age = {'Tom':18, 'Jack':19, 'Alex':17, 'Mary':20}\n",
    "for name in age:\n",
    "    print(name + '年龄为：%s岁' % age[name])\n",
    "# 遍历字典"
   ]
  },
  {
   "cell_type": "code",
   "execution_count": 128,
   "metadata": {},
   "outputs": [
    {
     "name": "stdout",
     "output_type": "stream",
     "text": [
      "0 0\n",
      "0 1\n",
      "1 0\n",
      "1 1\n",
      "2 0\n",
      "2 1\n"
     ]
    }
   ],
   "source": [
    "# 嵌套循环（嵌套尽量不要多于3个）\n",
    "for i in range(3):\n",
    "    for j in range(2):\n",
    "        print(i,j)"
   ]
  },
  {
   "cell_type": "markdown",
   "metadata": {},
   "source": [
    "#while循环"
   ]
  },
  {
   "cell_type": "code",
   "execution_count": 129,
   "metadata": {},
   "outputs": [
    {
     "name": "stdout",
     "output_type": "stream",
     "text": [
      "The count is: 0\n",
      "The count is: 1\n",
      "The count is: 2\n",
      "The count is: 3\n",
      "The count is: 4\n",
      "The count is: 5\n",
      "The count is: 6\n",
      "The count is: 7\n",
      "The count is: 8\n",
      "Good bye!\n"
     ]
    }
   ],
   "source": [
    "count = 0\n",
    "while count < 9:\n",
    "    print( 'The count is:', count)\n",
    "    count = count + 1\n",
    "print( \"Good bye!\")"
   ]
  },
  {
   "cell_type": "code",
   "execution_count": 130,
   "metadata": {},
   "outputs": [],
   "source": [
    "#无限循环\n",
    "# var = 1\n",
    "# while var == 1 :  \n",
    "#     num = input(\"Enter a number  :\")\n",
    "#     print( \"You entered: \", num)\n",
    "# print( \"Good bye!\")"
   ]
  },
  {
   "cell_type": "code",
   "execution_count": 131,
   "metadata": {},
   "outputs": [
    {
     "name": "stdout",
     "output_type": "stream",
     "text": [
      "0  is less than 5\n",
      "1  is less than 5\n",
      "2  is less than 5\n",
      "3  is less than 5\n",
      "4  is less than 5\n",
      "5  is not less than 5\n"
     ]
    }
   ],
   "source": [
    "#while- else语句\n",
    "count = 0\n",
    "while count < 5:\n",
    "    print(count, \" is less than 5\")\n",
    "    count = count + 1\n",
    "else:\n",
    "    print(count, \" is not less than 5\")"
   ]
  },
  {
   "cell_type": "markdown",
   "metadata": {},
   "source": [
    "break：在语句块执行过程中终止循环，并且跳出整个循环\n",
    "\n",
    "continue：在语句块执行过程中跳出该次循环，执行下一次循环\n",
    "\n",
    "pass：pass是空语句，是为了保持程序结构的完整性"
   ]
  },
  {
   "cell_type": "code",
   "execution_count": 132,
   "metadata": {},
   "outputs": [
    {
     "name": "stdout",
     "output_type": "stream",
     "text": [
      "190\n"
     ]
    }
   ],
   "source": [
    "#break语句\n",
    "s = 0\n",
    "n = 1\n",
    "while n > 0:\n",
    "    s = s + n\n",
    "    n = n + 1\n",
    "    if n == 20:\n",
    "        break#终止循环语句\n",
    "print(s)"
   ]
  },
  {
   "cell_type": "code",
   "execution_count": 133,
   "metadata": {},
   "outputs": [
    {
     "name": "stdout",
     "output_type": "stream",
     "text": [
      "第0次计算\n",
      "第1次计算\n",
      "第2次计算\n",
      "第3次计算\n",
      "第4次计算\n",
      "第1次计算\n",
      "第2次计算\n",
      "第3次计算\n",
      "第4次计算\n",
      "第5次计算\n",
      "第2次计算\n",
      "第3次计算\n",
      "第4次计算\n",
      "第5次计算\n",
      "第6次计算\n",
      "结果为30\n"
     ]
    }
   ],
   "source": [
    "s = 0\n",
    "for i in range(10):\n",
    "    for j in range(5):\n",
    "        s = s + (i*j)\n",
    "        print('第%i次计算' %(i+j))\n",
    "    if s > 20:\n",
    "        break #终止最深层的循环\n",
    "print('结果为%i' % s)"
   ]
  },
  {
   "cell_type": "code",
   "execution_count": 134,
   "metadata": {},
   "outputs": [
    {
     "name": "stdout",
     "output_type": "stream",
     "text": [
      "第0次计算\n",
      "第1次计算\n",
      "第2次计算\n",
      "第3次计算\n",
      "第4次计算\n",
      "第5次计算\n",
      "第6次计算\n",
      "第7次计算\n",
      "第8次计算\n",
      "第9次计算\n",
      "第10次计算\n",
      "第11次计算\n",
      "第12次计算\n",
      "第13次计算\n",
      "第14次计算\n",
      "第15次计算\n",
      "第16次计算\n",
      "第17次计算\n",
      "第18次计算\n",
      "第19次计算\n",
      "第20次计算\n",
      "第21次计算\n",
      "第22次计算\n",
      "第23次计算\n",
      "第24次计算\n",
      "结果为600\n"
     ]
    }
   ],
   "source": [
    "# continue语句 结束当前循环的语句\n",
    "s = 0\n",
    "for i in range(50):\n",
    "    if i%2 == 0:\n",
    "        s += i\n",
    "    else:\n",
    "        continue\n",
    "    print('第%i次计算'%(i/2))\n",
    "print('结果为%i' % s)"
   ]
  },
  {
   "cell_type": "code",
   "execution_count": 135,
   "metadata": {},
   "outputs": [
    {
     "name": "stdout",
     "output_type": "stream",
     "text": [
      "当前字母 : P\n",
      "当前字母 : y\n",
      "当前字母 : t\n",
      "当前字母 : h，但是我pass了\n",
      "当前字母 : h\n",
      "当前字母 : o\n",
      "当前字母 : n\n",
      "Good bye!\n"
     ]
    }
   ],
   "source": [
    "#pass语句，空语句，保持程序结构的完整性\n",
    "for letter in 'Python':\n",
    "    if letter == 'h':\n",
    "        pass\n",
    "        print( '当前字母 : h，但是我pass了')\n",
    "    print( '当前字母 :', letter)\n",
    "print( \"Good bye!\")"
   ]
  },
  {
   "cell_type": "code",
   "execution_count": 136,
   "metadata": {},
   "outputs": [
    {
     "name": "stdout",
     "output_type": "stream",
     "text": [
      "输入值小于5\n"
     ]
    }
   ],
   "source": [
    "#函数：\n",
    "def f(x):\n",
    "    if x > 5:\n",
    "        print('输入值小于5')\n",
    "    else:\n",
    "        print('输入值打鱼')\n",
    "f(10)"
   ]
  },
  {
   "cell_type": "code",
   "execution_count": 138,
   "metadata": {},
   "outputs": [
    {
     "name": "stdout",
     "output_type": "stream",
     "text": [
      "None 4\n"
     ]
    }
   ],
   "source": [
    "def f1(x):\n",
    "    y = 2**x\n",
    "    \n",
    "def f2(x):\n",
    "    y = 2**x\n",
    "    return y\n",
    "\n",
    "print(f1(2),f2(2))"
   ]
  },
  {
   "cell_type": "code",
   "execution_count": 139,
   "metadata": {},
   "outputs": [
    {
     "name": "stdout",
     "output_type": "stream",
     "text": [
      "100\n",
      "1000\n"
     ]
    }
   ],
   "source": [
    "def f(x,n = 2):#2,为默认参数，初始赋值\n",
    "    return(x**n)\n",
    "print(f(10))\n",
    "print(f(10,3))"
   ]
  },
  {
   "cell_type": "code",
   "execution_count": 140,
   "metadata": {},
   "outputs": [
    {
     "name": "stdout",
     "output_type": "stream",
     "text": [
      "(1,)\n",
      "('a', 'b')\n",
      "(1, 2, 3, [44, 33])\n",
      "('a', 'b')\n",
      "<class 'tuple'>\n"
     ]
    }
   ],
   "source": [
    "def f(*x):\n",
    "    print(x)\n",
    "    return x\n",
    "f(1)\n",
    "f('a','b')\n",
    "f(1,2,3,[44,33])\n",
    "print(type(f('a','b')))"
   ]
  },
  {
   "cell_type": "code",
   "execution_count": 141,
   "metadata": {},
   "outputs": [
    {
     "name": "stdout",
     "output_type": "stream",
     "text": [
      "请输入一个数字：3\n",
      "函数内为局部变量：呵呵哒\n",
      "函数外为全局变量：3\n"
     ]
    }
   ],
   "source": [
    "def f(m):\n",
    "    m = '呵呵哒'  # 函数作用：把输入变量指向“呵呵哒”\n",
    "    print(\"函数内为局部变量：%s\" % m)    \n",
    "\n",
    "a = input('请输入一个数字：')\n",
    "f(a)\n",
    "print(\"函数外为全局变量：%s\" % a)"
   ]
  },
  {
   "cell_type": "code",
   "execution_count": 142,
   "metadata": {},
   "outputs": [
    {
     "name": "stdout",
     "output_type": "stream",
     "text": [
      "请输入一个数字：7\n",
      "输入变量值：7\n",
      "函数内转为全局变量：呵呵哒\n"
     ]
    }
   ],
   "source": [
    "def f():\n",
    "    global a#把a从局部变量转换为全局变量\n",
    "    a = '呵呵哒'  \n",
    "    print(\"函数内转为全局变量：%s\" % a)    \n",
    "\n",
    "a = input('请输入一个数字：')\n",
    "print(\"输入变量值：%s\" % a)\n",
    "f()"
   ]
  },
  {
   "cell_type": "code",
   "execution_count": 143,
   "metadata": {},
   "outputs": [
    {
     "name": "stdout",
     "output_type": "stream",
     "text": [
      "9\n",
      "9\n"
     ]
    }
   ],
   "source": [
    "def fun(a,b,c):\n",
    "    return a+b+c\n",
    "print(fun(2,3,4))\n",
    "f = lambda a,b,c:a+b+c#lambda,不需要函数名，是一个表达式，只有一行\n",
    "print(f(2,3,4))"
   ]
  },
  {
   "cell_type": "code",
   "execution_count": 144,
   "metadata": {},
   "outputs": [],
   "source": [
    "def f1(n):#创建函数\n",
    "    y = 1\n",
    "    for i in range(1,n+1):\n",
    "        y = y * i\n",
    "    return y\n",
    "\n",
    "def f2(lst,x):#创建函数\n",
    "    while x in lst:\n",
    "        lst.remove(x)\n",
    "    return lst\n",
    "\n",
    "def f3(a,d,n):\n",
    "    an = a\n",
    "    s = 0\n",
    "    for i in range(n-1):\n",
    "        an = an + d\n",
    "        s = s + an\n",
    "    return s"
   ]
  },
  {
   "cell_type": "code",
   "execution_count": 145,
   "metadata": {},
   "outputs": [
    {
     "name": "stdout",
     "output_type": "stream",
     "text": [
      "/Users/caixiaodan/anaconda/anaconda3/lib/python3.8/site-packages/pandas/__init__.py\n"
     ]
    }
   ],
   "source": [
    "# 模块路径问题\n",
    "import pandas\n",
    "print(pandas.__file__)\n",
    "# 查看现有包所在路径，将自己创建的包存入改路径\n",
    "\n",
    "import sys\n",
    "sys.path.append('/Users/caixiaodan/Desktop/')\n",
    "# 加载sys包，把新建的testmodel所在路径添加上"
   ]
  },
  {
   "cell_type": "code",
   "execution_count": 146,
   "metadata": {},
   "outputs": [
    {
     "ename": "ModuleNotFoundError",
     "evalue": "No module named 'testmodel2'",
     "output_type": "error",
     "traceback": [
      "\u001b[0;31m---------------------------------------------------------------------------\u001b[0m",
      "\u001b[0;31mModuleNotFoundError\u001b[0m                       Traceback (most recent call last)",
      "\u001b[0;32m<ipython-input-146-b806de605032>\u001b[0m in \u001b[0;36m<module>\u001b[0;34m\u001b[0m\n\u001b[1;32m      1\u001b[0m \u001b[0;31m# 调用模块语句：import\u001b[0m\u001b[0;34m\u001b[0m\u001b[0;34m\u001b[0m\u001b[0;34m\u001b[0m\u001b[0m\n\u001b[1;32m      2\u001b[0m \u001b[0;34m\u001b[0m\u001b[0m\n\u001b[0;32m----> 3\u001b[0;31m \u001b[0;32mimport\u001b[0m \u001b[0mtestmodel2\u001b[0m\u001b[0;34m\u001b[0m\u001b[0;34m\u001b[0m\u001b[0m\n\u001b[0m\u001b[1;32m      4\u001b[0m \u001b[0;34m\u001b[0m\u001b[0m\n\u001b[1;32m      5\u001b[0m \u001b[0mprint\u001b[0m\u001b[0;34m(\u001b[0m\u001b[0mtestmodel2\u001b[0m\u001b[0;34m.\u001b[0m\u001b[0mf1\u001b[0m\u001b[0;34m(\u001b[0m\u001b[0;36m5\u001b[0m\u001b[0;34m)\u001b[0m\u001b[0;34m)\u001b[0m\u001b[0;34m\u001b[0m\u001b[0;34m\u001b[0m\u001b[0m\n",
      "\u001b[0;31mModuleNotFoundError\u001b[0m: No module named 'testmodel2'"
     ]
    }
   ],
   "source": [
    "# 调用模块语句：import\n",
    "\n",
    "import testmodel2\n",
    "\n",
    "print(tm2.f1(5))\n",
    "print(testmodel2.f1(5))\n",
    "print(testmodel2.f2([2,3,4,5,5,5,6,6,4,4,4,4],4))\n",
    "print(testmodel2.f3(10,2,10))\n",
    "# 直接用import调用模块，.f1()调用模块函数（方法）"
   ]
  },
  {
   "cell_type": "code",
   "execution_count": 147,
   "metadata": {},
   "outputs": [
    {
     "ename": "ModuleNotFoundError",
     "evalue": "No module named 'testmodel2'",
     "output_type": "error",
     "traceback": [
      "\u001b[0;31m---------------------------------------------------------------------------\u001b[0m",
      "\u001b[0;31mModuleNotFoundError\u001b[0m                       Traceback (most recent call last)",
      "\u001b[0;32m<ipython-input-147-e05f7f3b0762>\u001b[0m in \u001b[0;36m<module>\u001b[0;34m\u001b[0m\n\u001b[0;32m----> 1\u001b[0;31m \u001b[0;32mimport\u001b[0m \u001b[0mtestmodel2\u001b[0m \u001b[0;32mas\u001b[0m \u001b[0mtm2\u001b[0m\u001b[0;34m\u001b[0m\u001b[0;34m\u001b[0m\u001b[0m\n\u001b[0m\u001b[1;32m      2\u001b[0m \u001b[0;34m\u001b[0m\u001b[0m\n\u001b[1;32m      3\u001b[0m \u001b[0mprint\u001b[0m\u001b[0;34m(\u001b[0m\u001b[0mtm2\u001b[0m\u001b[0;34m.\u001b[0m\u001b[0mf1\u001b[0m\u001b[0;34m(\u001b[0m\u001b[0;36m5\u001b[0m\u001b[0;34m)\u001b[0m\u001b[0;34m)\u001b[0m\u001b[0;34m\u001b[0m\u001b[0;34m\u001b[0m\u001b[0m\n",
      "\u001b[0;31mModuleNotFoundError\u001b[0m: No module named 'testmodel2'"
     ]
    }
   ],
   "source": [
    "import testmodel2 as tm2\n",
    "\n",
    "print(tm2.f1(5))"
   ]
  },
  {
   "cell_type": "code",
   "execution_count": null,
   "metadata": {},
   "outputs": [],
   "source": [
    "from testmodel2 import f2\n",
    "\n",
    "print(f2([2,3,4,5,5,5,6,6,4,4,4,4],4))\n",
    "#print(f3(10,2,10))"
   ]
  },
  {
   "cell_type": "code",
   "execution_count": 148,
   "metadata": {},
   "outputs": [
    {
     "name": "stdout",
     "output_type": "stream",
     "text": [
      "0.5245687243083008 6.375990972534442\n",
      "7\n",
      "6 d\n",
      "[6, 11, 3, 1, 2]\n",
      "[9, 3, 13, 7, 11, 1, 5]\n"
     ]
    }
   ],
   "source": [
    "# python标准模块 —— random随机数\n",
    "\n",
    "import random\n",
    "\n",
    "x = random.random()\n",
    "y = random.random()\n",
    "print(x,y*10)\n",
    "# random.random()随机生成一个[0:1)的随机数\n",
    "\n",
    "m = random.randint(0,10)\n",
    "print(m)\n",
    "# random.randint()随机生成一个[0:10]的整数\n",
    "\n",
    "st1 = random.choice(list(range(10)))\n",
    "st2 = random.choice('abcdnehgjla')\n",
    "print(st1,st2)\n",
    "# random.choice()随机获取()中的一个元素，()种必须是一个有序类型\n",
    "\n",
    "lst = list(range(20))\n",
    "sli = random.sample(lst,5)\n",
    "print(sli)\n",
    "# random.sample(a,b)随机获取a中指定b长度的片段，不会改变原序列\n",
    "\n",
    "lst = [1,3,5,7,9,11,13]\n",
    "random.shuffle(lst)\n",
    "print(lst)\n",
    "# random.shuffle(list)将一个列表内的元素打乱"
   ]
  },
  {
   "cell_type": "code",
   "execution_count": 149,
   "metadata": {
    "scrolled": true
   },
   "outputs": [
    {
     "name": "stdout",
     "output_type": "stream",
     "text": [
      "hello\n",
      "hello\n",
      "Sat Feb 12 00:05:45 2022\n",
      "<class 'str'>\n",
      "time.struct_time(tm_year=2022, tm_mon=2, tm_mday=12, tm_hour=0, tm_min=5, tm_sec=45, tm_wday=5, tm_yday=43, tm_isdst=0)\n",
      "<class 'time.struct_time'>\n",
      "2022-02-12 00:05:45\n"
     ]
    }
   ],
   "source": [
    "# python标准模块 —— time时间模块\n",
    "\n",
    "import time\n",
    "\n",
    "for i in range(2):\n",
    "    print('hello')\n",
    "    time.sleep(1)\n",
    "# time.sleep()程序休息()秒\n",
    "\n",
    "print(time.ctime())\n",
    "print(type(time.ctime()))\n",
    "# 将当前时间转换为一个字符串\n",
    "\n",
    "print(time.localtime())\n",
    "print(type(time.localtime()))\n",
    "# 将当前时间转为当前时区的struct_time\n",
    "# wday 0-6表示周日到周六\n",
    "# ydat 1-366 一年中的第几天\n",
    "# isdst 是否为夏令时，默认为-1\n",
    "\n",
    "print(time.strftime('%Y-%m-%d %H:%M:%S',time.localtime()))\n",
    "# time.strftime(a,b)\n",
    "# a为格式化字符串格式\n",
    "# b为时间戳，一般用localtime()"
   ]
  },
  {
   "cell_type": "code",
   "execution_count": null,
   "metadata": {},
   "outputs": [],
   "source": [
    "path1 = 'C:/Users/Hjx/Desktop/text.txt'  # 单个反斜杠：/\n",
    "path2 = 'C:\\\\Users\\\\Hjx\\\\Desktop\\\\text.txt'  # 两个斜杠：\\\\（第一个\\是转义符）\n",
    "path3 = r'C:\\Users\\Hjx\\Desktop\\text.txt'  # r用于防止字符转义\n",
    "# 路径书写格式\n",
    "print(path1)\n",
    "print(path2)\n",
    "print(path3)"
   ]
  },
  {
   "cell_type": "code",
   "execution_count": 150,
   "metadata": {
    "scrolled": true
   },
   "outputs": [
    {
     "ename": "NameError",
     "evalue": "name 'path2' is not defined",
     "output_type": "error",
     "traceback": [
      "\u001b[0;31m---------------------------------------------------------------------------\u001b[0m",
      "\u001b[0;31mNameError\u001b[0m                                 Traceback (most recent call last)",
      "\u001b[0;32m<ipython-input-150-4cffd32c5eb5>\u001b[0m in \u001b[0;36m<module>\u001b[0;34m\u001b[0m\n\u001b[1;32m      1\u001b[0m \u001b[0;31m#读文件：\u001b[0m\u001b[0;34m\u001b[0m\u001b[0;34m\u001b[0m\u001b[0;34m\u001b[0m\u001b[0m\n\u001b[0;32m----> 2\u001b[0;31m \u001b[0mf\u001b[0m \u001b[0;34m=\u001b[0m \u001b[0mopen\u001b[0m\u001b[0;34m(\u001b[0m\u001b[0mpath2\u001b[0m\u001b[0;34m,\u001b[0m \u001b[0;34m'r'\u001b[0m\u001b[0;34m)\u001b[0m\u001b[0;34m\u001b[0m\u001b[0;34m\u001b[0m\u001b[0m\n\u001b[0m\u001b[1;32m      3\u001b[0m \u001b[0mprint\u001b[0m\u001b[0;34m(\u001b[0m\u001b[0mtype\u001b[0m\u001b[0;34m(\u001b[0m\u001b[0mf\u001b[0m\u001b[0;34m)\u001b[0m\u001b[0;34m)\u001b[0m\u001b[0;34m\u001b[0m\u001b[0;34m\u001b[0m\u001b[0m\n\u001b[1;32m      4\u001b[0m \u001b[0mprint\u001b[0m\u001b[0;34m(\u001b[0m\u001b[0mf\u001b[0m\u001b[0;34m)\u001b[0m\u001b[0;34m\u001b[0m\u001b[0;34m\u001b[0m\u001b[0m\n\u001b[1;32m      5\u001b[0m \u001b[0mprint\u001b[0m\u001b[0;34m(\u001b[0m\u001b[0mf\u001b[0m\u001b[0;34m.\u001b[0m\u001b[0mread\u001b[0m\u001b[0;34m(\u001b[0m\u001b[0;34m)\u001b[0m\u001b[0;34m)\u001b[0m\u001b[0;34m\u001b[0m\u001b[0;34m\u001b[0m\u001b[0m\n",
      "\u001b[0;31mNameError\u001b[0m: name 'path2' is not defined"
     ]
    }
   ],
   "source": [
    "#读文件：\n",
    "f = open(path2, 'r')\n",
    "print(type(f))\n",
    "print(f)\n",
    "print(f.read())\n",
    "print('读取完毕')\n",
    "# open('路径', '模式', enconding = '编码' )\n",
    "# 模式：r：读取文件，默认；w：写入；rw：读取+写入；a：追加\n",
    "# 简答的读取方法：.read() → 读取后，光标将会留在读取末尾\n",
    "\n",
    "print(f.read()) \n",
    "print('读取为空')\n",
    "# 运行第一次.read()之后，光标位于末尾，再次读取输出为空\n",
    "\n",
    "f.seek(0)\n",
    "print(f.read()) \n",
    "print('第二次读取')\n",
    "# 所以现在用 f.seek(0) 来移动光标\n",
    "\n",
    "f.close()\n",
    "# print(f.read())   # 关闭后无法读取\n",
    "# 关闭文件链接  f.close()，养成一个好习惯"
   ]
  },
  {
   "cell_type": "code",
   "execution_count": null,
   "metadata": {},
   "outputs": [],
   "source": [
    "import os  # 导入模块\n",
    "\n",
    "print(os.name)  # 输出字符串指示正在使用的平台。如果是window 则用'nt'表示，对Linux/Unix用户，它是'posix'。\n",
    "\n",
    "print(os.getcwd())  # 函数得到当前工作目录，即当前Python脚本工作的目录路径。\n",
    "\n",
    "print(os.listdir())  # 返回指定目录下的所有文件和目录名。\n",
    "\n",
    "#os.chdir('C:\\\\Users\\\\Hjx\\\\Desktop\\\\' )  # 切换到目标路径\n",
    "#print(os.getcwd()) \n",
    "\n",
    "#os.remove('text2.txt')  # 删除一个文件\n",
    "\n",
    "print(os.path.split('C:\\\\Users\\\\Hjx\\\\Desktop\\\\text.txt'))  # 函数返回一个路径的目录名和文件名\n",
    "\n",
    "print(os.path.exists('C:\\\\Users\\\\Hjx\\\\Desktop\\\\heheh.txt'))\n",
    "print(os.path.exists('C:\\\\Users\\\\Hjx\\\\Desktop\\\\'))\n",
    "# 用来检验给出的路径是否真地存在，这里不存在改文件故False，但路径存在故True"
   ]
  },
  {
   "cell_type": "code",
   "execution_count": null,
   "metadata": {},
   "outputs": [],
   "source": [
    "# 相对路径和绝对路径\n",
    "\n",
    "os.chdir('C:\\\\Users\\\\Hjx\\\\Desktop\\\\' )\n",
    "f2 = open('text.txt','r')\n",
    "print(f2.read())\n",
    "# 在申明了目录之后，就可以直接输出文件名了 → 相对路径"
   ]
  },
  {
   "cell_type": "code",
   "execution_count": null,
   "metadata": {},
   "outputs": [],
   "source": [
    "# 文件读取 - read\n",
    "\n",
    "f = open('C:\\\\Users\\\\Hjx\\\\Desktop\\\\text.txt', 'r')\n",
    "print(f.read())\n",
    "# 直接读取（这里光标默认会在最末尾）"
   ]
  },
  {
   "cell_type": "code",
   "execution_count": null,
   "metadata": {},
   "outputs": [],
   "source": [
    "f.seek(0)\n",
    "print(f.read(2))\n",
    "# f.read(n):n代表读取多少个字符b"
   ]
  },
  {
   "cell_type": "code",
   "execution_count": null,
   "metadata": {},
   "outputs": [],
   "source": [
    "f.seek(0)\n",
    "print(f.readline())\n",
    "print(f.readline())\n",
    "print(f.readline(4))\n",
    "# 读取行到字符串，一次性读取一行\n",
    "# f.readline(n)：读取该行的前n个字符"
   ]
  },
  {
   "cell_type": "code",
   "execution_count": null,
   "metadata": {},
   "outputs": [],
   "source": [
    "f.seek(0)\n",
    "for line in f.readlines():\n",
    "    print(type(line),line)"
   ]
  }
 ],
 "metadata": {
  "kernelspec": {
   "display_name": "Python 3",
   "language": "python",
   "name": "python3"
  },
  "language_info": {
   "codemirror_mode": {
    "name": "ipython",
    "version": 3
   },
   "file_extension": ".py",
   "mimetype": "text/x-python",
   "name": "python",
   "nbconvert_exporter": "python",
   "pygments_lexer": "ipython3",
   "version": "3.8.5"
  }
 },
 "nbformat": 4,
 "nbformat_minor": 4
}
